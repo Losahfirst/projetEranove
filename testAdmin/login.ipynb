{
 "cells": [
  {
   "cell_type": "markdown",
   "id": "71973c6f",
   "metadata": {},
   "source": [
    "EXERCICE COURS MANIPULATION DE FICHIER "
   ]
  },
  {
   "cell_type": "code",
   "execution_count": 36,
   "id": "6ea99dfd",
   "metadata": {},
   "outputs": [
    {
     "name": "stdout",
     "output_type": "stream",
     "text": [
      "T A\n"
     ]
    }
   ],
   "source": [
    "\n",
    "operation = input(\"Saisir une opération : lecture / ecriture : \")\n",
    "\n",
    "if operation == \"ecriture\":\n",
    "\n",
    "    with open(\"eranove.txt\", \"a\") as temperature:\n",
    "       nom = input(\"Saisir votre nom : \")\n",
    "       temperature.write(nom + \"\\n\")\n",
    "       \n",
    "       pitch = input(\"Saisir le texte à enregistrer : \")\n",
    "       temperature.write(pitch + \"\\n\")\n",
    "       print(\"Ecriture terminée.\")\n",
    "       temperature.close()\n",
    "    \n",
    "else:\n",
    "\n",
    "    with open(\"eranove.txt\", \"r\") as temperature:\n",
    "       \n",
    "       data = temperature.read()\n",
    "       print(data[7],data[8])\n",
    "       temperature.close() "
   ]
  },
  {
   "cell_type": "markdown",
   "id": "8e00fa8f",
   "metadata": {},
   "source": [
    "ECRITURE DE FICHIER CSV"
   ]
  },
  {
   "cell_type": "code",
   "execution_count": null,
   "id": "582fc22a",
   "metadata": {},
   "outputs": [
    {
     "name": "stdout",
     "output_type": "stream",
     "text": [
      "Lundi\n",
      "Mardi\n",
      "Mercredi\n",
      "Jeudi\n",
      "Vendredi\n",
      "Samedi\n",
      "Dimanche\n"
     ]
    }
   ],
   "source": [
    "import csv\n",
    "#lecture de fichier csv\n",
    "with open(\"eranove.csv\", newline='') as temperature:\n",
    "    degree =csv.reader(temperature)\n",
    "    next(degree)\n",
    "    for row in degree:\n",
    "        print(row[0])\n",
    "\n",
    "#ecriture de fichier csv\n",
    "with open(\"eranove.csv\", \"a\") as ecriture:\n",
    "     adddegre = csv.writer(row[0])\n",
    "\n"
   ]
  },
  {
   "cell_type": "markdown",
   "id": "039f616a",
   "metadata": {},
   "source": [
    "Explication lecture fichier Python\n"
   ]
  },
  {
   "cell_type": "code",
   "execution_count": 49,
   "id": "08d234fc",
   "metadata": {},
   "outputs": [
    {
     "name": "stdout",
     "output_type": "stream",
     "text": [
      "Ecriture terminée.\n"
     ]
    }
   ],
   "source": [
    "with open(\"test.txt\", \"a\") as ecriture:\n",
    "    \n",
    "    saisir = input(\"Saisir le texte à enregistrer : \")\n",
    "    ecriture.write(saisir + \"\\n\")\n",
    "\n",
    "    print(\"Ecriture terminée.\")\n",
    "    ecriture.close()\n",
    "\n",
    "\n",
    "\n"
   ]
  }
 ],
 "metadata": {
  "kernelspec": {
   "display_name": "Python 3",
   "language": "python",
   "name": "python3"
  },
  "language_info": {
   "codemirror_mode": {
    "name": "ipython",
    "version": 3
   },
   "file_extension": ".py",
   "mimetype": "text/x-python",
   "name": "python",
   "nbconvert_exporter": "python",
   "pygments_lexer": "ipython3",
   "version": "3.12.2"
  }
 },
 "nbformat": 4,
 "nbformat_minor": 5
}
